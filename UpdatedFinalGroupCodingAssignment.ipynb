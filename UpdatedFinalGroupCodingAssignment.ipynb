{
  "cells": [
    {
      "cell_type": "markdown",
      "metadata": {
        "id": "b6htV1n-oagY"
      },
      "source": [
        "Our ml model will predict"
      ]
    },
    {
      "cell_type": "markdown",
      "metadata": {
        "id": "DpitP8sDo7OE"
      },
      "source": [
        "Note: Code is from class hands-ons and chatGPT 3.5"
      ]
    },
    {
      "cell_type": "code",
      "execution_count": null,
      "metadata": {
        "id": "gOh-545F-ZQ6"
      },
      "outputs": [],
      "source": [
        "import numpy as np #import libraries\n",
        "import pandas as pd\n",
        "from inspect import BoundArguments\n",
        "from pandas.core.api import DataFrame\n",
        "import pickle\n",
        "import numpy\n",
        "\n",
        "\n",
        "df = pd.read_csv(\"NYPD_Shooting_Incident_Data.csv\") #read csv with pandas and print first 5 rows\n",
        "df.head()\n"
      ]
    },
    {
      "cell_type": "code",
      "execution_count": null,
      "metadata": {
        "id": "HTT5YnUgqG1U"
      },
      "outputs": [],
      "source": [
        "from matplotlib import pyplot as plt\n"
      ]
    },
    {
      "cell_type": "code",
      "execution_count": null,
      "metadata": {
        "id": "A0MaDkNGyOM4"
      },
      "outputs": [],
      "source": [
        "selected_age_groups = [\"<18\", \"18-24\", \"25-44\", \"45-64\", \"65+\"]\n",
        "\n",
        "filtered_df = df[df['VIC_AGE_GROUP'].isin(selected_age_groups)]\n",
        "\n",
        "incident_by_vic_age = filtered_df.groupby('VIC_AGE_GROUP').size() # from chatGPT\n",
        "murders_by_vic_age = filtered_df[filtered_df['STATISTICAL_MURDER_FLAG']]['VIC_AGE_GROUP'].value_counts().sort_index()\n",
        "\n",
        "\n",
        "plt.bar(incident_by_vic_age.index, incident_by_vic_age, color = 'blue', width = .7, label='Total Incidents'\n",
        "plt.bar(murders_by_vic_age.index, murders_by_vic_age, color = 'red', width = .7, label='Murders')\n",
        "plt.legend()\n",
        "plt.title ('Shooting Incident Victims By Age Group')\n"
      ]
    },
    {
      "cell_type": "code",
      "source": [
        "selected_age_groups = [\"<18\", \"18-24\", \"25-44\", \"45-64\", \"65+\"]\n",
        "\n",
        "filtered_df = df[df['PERP_AGE_GROUP'].isin(selected_age_groups)]\n",
        "\n",
        "incident_by_perp_age = filtered_df.groupby('PERP_AGE_GROUP').size() # from chatGPT\n",
        "murders_by_perp_age = filtered_df[filtered_df['STATISTICAL_MURDER_FLAG']]['PERP_AGE_GROUP'].value_counts().sort_index()\n",
        "\n",
        "\n",
        "plt.bar(incident_by_perp_age.index, incident_by_perp_age, color = 'blue', width = .7, label='Total Incidents')\n",
        "plt.bar(murders_by_perp_age.index, murders_by_perp_age, color = 'red', width = .7, label='Murders')\n",
        "plt.legend()\n",
        "plt.title ('Shooting Incident Perpetrator By Age Group')"
      ],
      "metadata": {
        "id": "BjDz_z5Dgf1a"
      },
      "execution_count": null,
      "outputs": []
    },
    {
      "cell_type": "markdown",
      "metadata": {
        "id": "fLzkuHBDeac-"
      },
      "source": []
    },
    {
      "cell_type": "code",
      "execution_count": null,
      "metadata": {
        "id": "-kByeB5Ze7Ct"
      },
      "outputs": [],
      "source": [
        "import matplotlib.pyplot as plt\n",
        "\n",
        "selected_race = [\"AMERICAN INDIAN/ALASKAN NATIVE\", \"ASIAN / PACIFIC ISLANDER\", \"BLACK\", \"WHITE\", \"BLACK HISPANIC\", \"WHITE HISPANIC\"]\n",
        "\n",
        "filtered_df = df[df['PERP_RACE'].isin(selected_race)]\n",
        "\n",
        "incident_count_by_race = filtered_df.groupby('PERP_RACE').size()\n",
        "\n",
        "plt.bar(incident_count_by_race.index, incident_count_by_race.values, color='blue', label='Total Incidents')\n",
        "\n",
        "\n",
        "murders_by_race = filtered_df[filtered_df['STATISTICAL_MURDER_FLAG']]['PERP_RACE'].value_counts().sort_index()\n",
        "\n",
        "plt.bar(murders_by_race.index, murders_by_race.values, color='red', label='Murders')\n",
        "\n",
        "plt.xlabel(\"Perpetrator Race\")\n",
        "plt.ylabel(\"Number of Incidents\")\n",
        "plt.title(\"Number of Shooting Incidents and Murders by Perpetrator Race\")\n",
        "\n",
        "plt.xticks(rotation=45, fontsize=10)\n",
        "\n",
        "plt.legend()\n",
        "\n",
        "plt.show()\n"
      ]
    },
    {
      "cell_type": "code",
      "source": [
        "import matplotlib.pyplot as plt\n",
        "\n",
        "selected_race = [\"AMERICAN INDIAN/ALASKAN NATIVE\", \"ASIAN / PACIFIC ISLANDER\", \"BLACK\", \"WHITE\", \"BLACK HISPANIC\", \"WHITE HISPANIC\"]\n",
        "\n",
        "filtered_df = df[df['VIC_RACE'].isin(selected_race)]\n",
        "\n",
        "incident_count_by_race = filtered_df.groupby('VIC_RACE').size()\n",
        "\n",
        "plt.bar(incident_count_by_race.index, incident_count_by_race.values, color='blue', label='Total Incidents')\n",
        "\n",
        "\n",
        "murders_by_race = filtered_df[filtered_df['STATISTICAL_MURDER_FLAG']]['VIC_RACE'].value_counts().sort_index()\n",
        "\n",
        "plt.bar(murders_by_race.index, murders_by_race.values, color='red', label='Murders')\n",
        "\n",
        "plt.xlabel(\"Victim Race\")\n",
        "plt.ylabel(\"Number of Incidents\")\n",
        "plt.title(\"Number of Shooting Incidents and Murders by Victim Race\")\n",
        "\n",
        "plt.xticks(rotation=45, fontsize=10)\n",
        "\n",
        "plt.legend()\n",
        "\n",
        "plt.show()\n"
      ],
      "metadata": {
        "id": "-DY7cYO8fZUG"
      },
      "execution_count": null,
      "outputs": []
    },
    {
      "cell_type": "code",
      "source": [
        "selected_sex = [\"M\", \"F\"]\n",
        "\n",
        "filtered_df = df[df['VIC_SEX'].isin(selected_sex) & df['PERP_SEX'].isin(selected_sex)]\n",
        "\n",
        "incident_count_by_vic_sex = filtered_df.groupby('VIC_SEX').size() # from chatGPT\n",
        "\n",
        "plt.bar(incident_count_by_vic_sex.index, incident_count_by_vic_sex.values, color = 'blue', label='Total Incidents')\n",
        "\n",
        "murders_by_vic_sex = filtered_df[filtered_df['STATISTICAL_MURDER_FLAG']]['VIC_SEX'].value_counts().sort_index()\n",
        "\n",
        "plt.bar(murders_by_vic_sex.index, murders_by_vic_sex.values, color='red', label='Murders')\n",
        "\n",
        "\n",
        "plt.legend()\n",
        "plt.xlabel(\"Victim Sex\")\n",
        "plt.ylabel(\"Number of Murders\")\n",
        "plt.title(\"Number of Shooting Incidents by Victim Sex\")\n",
        "\n",
        "# Adjust the font size and rotation of x-axis labels\n",
        "\n",
        "plt.show()\n"
      ],
      "metadata": {
        "id": "nb4y-tHyd6aW"
      },
      "execution_count": null,
      "outputs": []
    },
    {
      "cell_type": "code",
      "execution_count": null,
      "metadata": {
        "id": "0AW6jcuV4T5-"
      },
      "outputs": [],
      "source": [
        "selected_sex = [\"M\", \"F\"]\n",
        "\n",
        "filtered_df = df[df['PERP_SEX'].isin(selected_sex)]\n",
        "\n",
        "incident_count_by_perp_sex = filtered_df.groupby('PERP_SEX').size() # from chatGPT\n",
        "murders_by_perp_sex = filtered_df[filtered_df['STATISTICAL_MURDER_FLAG']]['PERP_SEX'].value_counts().sort_index()\n",
        "\n",
        "plt.bar(incident_count_by_perp_sex.index, incident_count_by_perp_sex ,color ='blue', width = 0.7, label='Total Incidents')\n",
        "plt.bar(murders_by_perp_sex.index, murders_by_perp_sex ,color ='red', width = 0.7, label='Murders')\n",
        "\n",
        "plt.legend()\n",
        "\n",
        "\n",
        "plt.xlabel(\"Sex\")\n",
        "plt.ylabel(\"Number of Shooting Incidents\")\n",
        "plt.title(\"Number of Shootings by Perpetrator Sex\")\n",
        "plt.show()"
      ]
    },
    {
      "cell_type": "code",
      "execution_count": null,
      "metadata": {
        "id": "pnOIw3ND1-W2"
      },
      "outputs": [],
      "source": [
        "\n",
        "\n",
        "time = pd.to_datetime(df[\"OCCUR_TIME\"]) #create histogram of occurance time with 24 bins (using matplotlib)\n",
        "df['Hour'] = time.dt.hour\n",
        "\n",
        "murders_by_hour = df[df['STATISTICAL_MURDER_FLAG']]['Hour'].value_counts().sort_index() #from chatGPT\n",
        "\n",
        "murders_by_hour.plot(kind = 'line', marker = 'o', color = 'red', label='Murders')\n",
        "\n",
        "#hour.hist(bins = 24) #24 bins to equate to military time\n",
        "\n",
        "incident_count_by_year = df.groupby('Hour').size()\n",
        "\n",
        "\n",
        "incident_count_by_year.plot(kind='line', marker='o', color='blue', label='Total Incidents')\n",
        "\n",
        "\n",
        "plt.legend()\n",
        "plt.xlabel('Time')\n",
        "plt.ylabel('Number of Incidents')\n",
        "plt.title('Number of Shooting Incidents by Hour')\n",
        "plt.grid(True)\n",
        "\n"
      ]
    },
    {
      "cell_type": "code",
      "execution_count": null,
      "metadata": {
        "id": "j_ETnNKUDSgh"
      },
      "outputs": [],
      "source": [
        "date = pd.to_datetime(df[\"OCCUR_DATE\"])\n",
        "df['Month'] = date.dt.month\n",
        "\n",
        "\n",
        "incident_count_by_month = df.groupby('Month').size() # from chatGPT\n",
        "plt.bar(incident_count_by_month.index, incident_count_by_month ,color ='blue', width = 0.7, label='Total Incidents')\n",
        "\n",
        "\n",
        "murders_by_month = df[df['STATISTICAL_MURDER_FLAG']]['Month'].value_counts().sort_index() #from chatGPT\n",
        "plt.bar(murders_by_month.index, murders_by_month ,color ='red', width = 0.7, label='Murders')\n",
        "\n",
        "\n",
        "plt.legend()\n",
        "plt.xlabel(\"Month\")\n",
        "plt.ylabel(\"Number of Shooting Incidents\")\n",
        "\n",
        "plt.title(\"Number of Shootings by Month\")"
      ]
    },
    {
      "cell_type": "code",
      "execution_count": null,
      "metadata": {
        "id": "buxY979CR22n"
      },
      "outputs": [],
      "source": [
        "import matplotlib.pyplot as plt\n",
        "import pandas as pd\n",
        "\n",
        "df['Year'] = date.dt.year\n",
        "\n",
        "incident_count_by_year = df.groupby('Year').size()\n",
        "\n",
        "incident_count_by_year.plot(kind='line', marker='o', color='blue', label='Total Incidents')\n",
        "\n",
        "murders_by_year = df[df['STATISTICAL_MURDER_FLAG']]['Year'].value_counts().sort_index()\n",
        "\n",
        "murders_by_year.plot(kind='line', marker='o', color='red', label='Murders')\n",
        "\n",
        "plt.legend()\n",
        "plt.xlabel(\"Year\")\n",
        "plt.ylabel(\"Number of Incidents\")\n",
        "plt.title(\"Number of Shooting Incidents and Murders by Year\")\n",
        "plt.grid(True)\n",
        "plt.show()\n"
      ]
    },
    {
      "cell_type": "code",
      "execution_count": null,
      "metadata": {
        "id": "0aiV8Jp9gL6u"
      },
      "outputs": [],
      "source": [
        "import matplotlib.pyplot as plt\n",
        "\n",
        "incident_by_boro = df.groupby('BORO').size()\n",
        "\n",
        "plt.bar(incident_by_boro.index, incident_by_boro.values, color='blue', label='Total Incidents')\n",
        "\n",
        "murders_by_boro = df[df['STATISTICAL_MURDER_FLAG']]['BORO'].value_counts().sort_index()\n",
        "\n",
        "plt.bar(murders_by_boro.index, murders_by_boro.values, color='red', label='Murders')\n",
        "\n",
        "plt.xlabel(\"Borough\")\n",
        "plt.ylabel(\"Number of Incidents\")\n",
        "plt.title(\"Number of Shooting Incidents and Murders by Borough\")\n",
        "\n",
        "plt.legend()\n",
        "\n",
        "plt.show()\n"
      ]
    },
    {
      "cell_type": "code",
      "execution_count": null,
      "metadata": {
        "id": "6aHaDZxjo9lM"
      },
      "outputs": [],
      "source": [
        "\n",
        "cleaning_features = df[[ \"STATISTICAL_MURDER_FLAG\", \"BORO\",\n",
        "                     'PERP_SEX', 'PERP_AGE_GROUP',  'PERP_RACE',\n",
        "                     \"VIC_AGE_GROUP\",  \"VIC_SEX\", \"VIC_RACE\", 'Hour', 'Month', 'Year']]\n",
        "\n"
      ]
    },
    {
      "cell_type": "markdown",
      "metadata": {
        "id": "S_uElKFLwwX0"
      },
      "source": [
        "Where we learned about the map command: https://realpython.com/python-map-function/"
      ]
    },
    {
      "cell_type": "code",
      "execution_count": null,
      "metadata": {
        "id": "LSNO6xGOgTiV"
      },
      "outputs": [],
      "source": [
        "valid_categories = [0, 1]\n",
        "\n",
        "def transform_flag (murder_column): #transform sex column to make binary\n",
        "  murder_column = murder_column.map({False: 0, True: 1}) #from chatGPT\n",
        "  return murder_column #from chatGPT\n",
        "\n",
        "murder_flag = cleaning_features['STATISTICAL_MURDER_FLAG']\n",
        "\n",
        "cleaning_features['STATISTICAL_MURDER_FLAG'] = transform_flag(murder_flag)\n",
        "\n",
        "cleaning_features = cleaning_features[cleaning_features['STATISTICAL_MURDER_FLAG'].isin(valid_categories)]\n",
        "\n",
        "cleaning_features"
      ]
    },
    {
      "cell_type": "code",
      "execution_count": null,
      "metadata": {
        "id": "xDmgV9Fu6lvQ"
      },
      "outputs": [],
      "source": [
        "\n"
      ]
    },
    {
      "cell_type": "code",
      "execution_count": null,
      "metadata": {
        "id": "EIFGIKGwrgPw"
      },
      "outputs": [],
      "source": [
        "valid_categories = [0, 1]\n",
        "\n",
        "def transform_sex (sex_column): #transform sex column to make binary\n",
        "  sex_column = sex_column.map({'M': 0, 'F': 1}) #from chatGPT\n",
        "  return sex_column #from chatGPT\n",
        "\n",
        "vic_sex = cleaning_features['VIC_SEX']\n",
        "perp_sex = cleaning_features['PERP_SEX']\n",
        "\n",
        "cleaning_features['VIC_SEX'] = transform_sex(vic_sex)\n",
        "cleaning_features['PERP_SEX'] = transform_sex(perp_sex)\n",
        "\n",
        "cleaning_features = cleaning_features[cleaning_features['VIC_SEX'].isin(valid_categories)]\n",
        "cleaning_features = cleaning_features[cleaning_features['PERP_SEX'].isin(valid_categories)]\n",
        "\n",
        "cleaning_features"
      ]
    },
    {
      "cell_type": "code",
      "execution_count": null,
      "metadata": {
        "id": "CI0ci9ymuT3p"
      },
      "outputs": [],
      "source": [
        "valid_categories = [0, 1, 2, 3, 4]\n",
        "\n",
        "def transform_age(age_column):\n",
        "  return age_column.map({ #from chatGPT\n",
        "        \"<18\": 0, #from chatGPT\n",
        "        \"18-24\": 1, #from chatGPT\n",
        "        \"25-44\": 2, #from chatGPT\n",
        "        \"45-64\": 3, #from chatGPT\n",
        "        \"65+\": 4 #from chatGPT\n",
        "    }) #from chatGPT\n",
        "\n",
        "vic_age = cleaning_features['VIC_AGE_GROUP']\n",
        "perp_age = cleaning_features['PERP_AGE_GROUP']\n",
        "\n",
        "cleaning_features['VIC_AGE_GROUP'] = transform_age(vic_age)\n",
        "cleaning_features['PERP_AGE_GROUP'] = transform_age(perp_age)\n",
        "\n",
        "cleaning_features = cleaning_features[cleaning_features['VIC_AGE_GROUP'].isin(valid_categories)]\n",
        "cleaning_features = cleaning_features[cleaning_features['PERP_AGE_GROUP'].isin(valid_categories)]\n",
        "\n",
        "cleaning_features"
      ]
    },
    {
      "cell_type": "code",
      "execution_count": null,
      "metadata": {
        "id": "X1c2xnGJCf6Z"
      },
      "outputs": [],
      "source": []
    },
    {
      "cell_type": "code",
      "execution_count": null,
      "metadata": {
        "id": "qdg0B3CbujvV"
      },
      "outputs": [],
      "source": [
        "valid_categories = [0, 1, 2, 3, 4, 5]\n",
        "\n",
        "def transform_race(race_column):\n",
        "  race_mapping = { #from chatGPT\n",
        "        'WHITE': 0, #from chatGPT\n",
        "        'BLACK': 1, #from chatGPT\n",
        "        'WHITE HISPANIC': 2, #from chatGPT\n",
        "        'BLACK HISPANIC': 3, #from chatGPT\n",
        "        'ASIAN / PACIFIC ISLANDER': 4, #from chatGPT\n",
        "        'AMERICAN INDIAN/ALASKAN NATIVE': 5 #from chatGPT\n",
        "    } #from chatGPT\n",
        "  return race_column.map(race_mapping) #from chatGPT , previously had commented statements below and chatGPT, provided the 2 rows above as a solution to our error\n",
        "\n",
        "\n",
        "\n",
        "vic_race = cleaning_features['VIC_RACE']\n",
        "perp_race = cleaning_features['PERP_RACE']\n",
        "\n",
        "cleaning_features['VIC_RACE'] = transform_race(vic_race)\n",
        "cleaning_features['PERP_RACE'] = transform_race(perp_race)\n",
        "\n",
        "cleaning_features = cleaning_features[cleaning_features['VIC_RACE'].isin(valid_categories)]\n",
        "cleaning_features = cleaning_features[cleaning_features['PERP_RACE'].isin(valid_categories)]\n",
        "\n",
        "cleaning_features\n"
      ]
    },
    {
      "cell_type": "code",
      "execution_count": null,
      "metadata": {
        "id": "B8uLj3O1_-Gj"
      },
      "outputs": [],
      "source": [
        "valid_categories = [0, 1, 2, 3, 4, 5]\n",
        "\n",
        "def transform_borough(borough):\n",
        "  borough_mapping = { #from chatGPT\n",
        "        'QUEENS': 0, #from chatGPT\n",
        "        'BRONX': 1, #from chatGPT\n",
        "        'BROOKLYN': 2, #from chatGPT\n",
        "        'MANHATTAN': 3, #from chatGPT\n",
        "        'STATEN ISLAND': 4 #from chatGPT\n",
        "    } #from chatGPT\n",
        "  return borough.map(borough_mapping) #from chatGPT , previously had commented statements below and chatGPT, provided the 2 rows above as a solution to our error\n",
        "\n",
        "\n",
        "borough = cleaning_features['BORO']\n",
        "\n",
        "cleaning_features['BORO'] = transform_borough(borough)\n",
        "\n",
        "cleaning_features = cleaning_features[cleaning_features['BORO'].isin(valid_categories)]\n",
        "\n",
        "cleaning_features\n"
      ]
    },
    {
      "cell_type": "markdown",
      "source": [
        "#### Dropping Duplicates and cutting down rows with a positive statistical murder flag to 35%"
      ],
      "metadata": {
        "id": "NCBHgxR-YN6B"
      }
    },
    {
      "cell_type": "code",
      "source": [
        "cleaning_features = cleaning_features.drop_duplicates()\n",
        "\n",
        "zero_flag_rows = cleaning_features[cleaning_features['STATISTICAL_MURDER_FLAG'] == 0]\n",
        "\n",
        "frac_zero_flag_rows = zero_flag_rows.sample(frac=0.35, random_state=42) #from ChatGPT 3.5\n",
        "\n",
        "non_zero_flag_rows = cleaning_features[cleaning_features['STATISTICAL_MURDER_FLAG'] != 0]\n",
        "\n",
        "cleaning_features = pd.concat([non_zero_flag_rows, frac_zero_flag_rows]) #from ChatGPT 3.5\n"
      ],
      "metadata": {
        "id": "7YbVDQ4bNgai"
      },
      "execution_count": null,
      "outputs": []
    },
    {
      "cell_type": "code",
      "source": [
        "cleaning_features.to_csv('clean_data.csv')\n"
      ],
      "metadata": {
        "id": "HtPJcZlETkqw"
      },
      "execution_count": null,
      "outputs": []
    },
    {
      "cell_type": "markdown",
      "source": [
        "selecting 6000 rows from the clean DataFrame to train the data and putting the remaining rows in a test DataFrame"
      ],
      "metadata": {
        "id": "pJZg2jHmaghy"
      }
    },
    {
      "cell_type": "code",
      "execution_count": null,
      "metadata": {
        "id": "Yfn9easOddJS"
      },
      "outputs": [],
      "source": [
        "train_data = cleaning_features.sample(6000)\n",
        "train_data.to_csv('train_data.csv', index = False)\n",
        "train_df = pd.read_csv(\"train_data.csv\")\n",
        "\n",
        "test_data = cleaning_features.drop(train_data.index)\n",
        "test_data.to_csv('test_data.csv')\n",
        "test_df = pd.read_csv(\"test_data.csv\")"
      ]
    },
    {
      "cell_type": "code",
      "execution_count": null,
      "metadata": {
        "id": "XGuNEYM0hBdA"
      },
      "outputs": [],
      "source": [
        "train_features = train_df[[ \"BORO\", \"PERP_AGE_GROUP\",  \"PERP_SEX\", \"PERP_RACE\",\n",
        "                      \"VIC_AGE_GROUP\",  \"VIC_SEX\", \"VIC_RACE\", 'Hour', 'Month']]\n",
        "\n",
        "\n",
        "\n",
        "train_labels = train_df[['STATISTICAL_MURDER_FLAG']]\n",
        "\n"
      ]
    },
    {
      "cell_type": "markdown",
      "metadata": {
        "id": "vWkfRabOkD8O"
      },
      "source": [
        "## Logistic Regression Model"
      ]
    },
    {
      "cell_type": "code",
      "execution_count": null,
      "metadata": {
        "id": "yhHe5j5dfG8A"
      },
      "outputs": [],
      "source": [
        "from sklearn.linear_model import LogisticRegression\n",
        "from sklearn.neural_network import MLPClassifier\n",
        "\n",
        "\n",
        "lr_classifier = LogisticRegression(solver='lbfgs', max_iter=10)\n",
        "mlp_classifier = MLPClassifier(solver='lbfgs', alpha=1e-5,\n",
        "                               hidden_layer_sizes=(8, 2), random_state=11,max_iter=100)\n",
        "\n",
        "\n",
        "# train our models\n",
        "lr_classifier.fit(train_features.to_numpy(),train_labels.to_numpy().flatten())\n",
        "mlp_classifier.fit(train_features.to_numpy(),train_labels.to_numpy().flatten())"
      ]
    },
    {
      "cell_type": "code",
      "execution_count": null,
      "metadata": {
        "id": "T76fpqB-l2nH"
      },
      "outputs": [],
      "source": [
        "from sklearn.metrics import accuracy_score\n",
        "from sklearn.metrics import classification_report\n",
        "\n",
        "\n",
        "#load test data\n",
        "test_df = pd.read_csv(\"test_data.csv\")\n",
        "\n",
        "#Extract the input features\n",
        "test_inputs = test_df[[ \"BORO\", \"PERP_AGE_GROUP\",  \"PERP_SEX\", \"PERP_RACE\",\n",
        "                     \"VIC_AGE_GROUP\",  \"VIC_SEX\", \"VIC_RACE\", 'Hour', 'Month']]\n",
        "\n",
        "\n",
        "y_actual = test_df[['STATISTICAL_MURDER_FLAG']]\n",
        "\n",
        "# predict using logistic regression model\n",
        "y_predicted_lr = lr_classifier.predict(test_inputs.to_numpy())\n",
        "lr_accuracy_score = accuracy_score(y_predicted_lr,y_actual)\n",
        "\n",
        "# predict using logistic regression model\n",
        "y_predicted_mlp = mlp_classifier.predict(test_inputs.to_numpy())\n",
        "mlp_accuracy_score = accuracy_score(y_predicted_mlp,y_actual)\n",
        "\n",
        "print (f\"Accuracy of the Logistic Classifier = {lr_accuracy_score}\")\n",
        "print (f\"Accuracy of the MLP Classifier = {mlp_accuracy_score}\")\n",
        "\n",
        "\n",
        "print(classification_report(y_predicted_lr, y_actual))\n",
        "print(classification_report(y_predicted_mlp, y_actual))\n",
        "\n"
      ]
    },
    {
      "cell_type": "code",
      "execution_count": null,
      "metadata": {
        "id": "nGTuuqmDm0dV"
      },
      "outputs": [],
      "source": [
        "# Storing\n",
        "\n",
        "file_to_write = open(\"murders_best_model.saved\",\"wb\")\n",
        "pickle.dump(mlp_classifier,file_to_write)\n",
        "file_to_write.close()"
      ]
    },
    {
      "cell_type": "code",
      "execution_count": null,
      "metadata": {
        "id": "bhnv4GabmrZq"
      },
      "outputs": [],
      "source": [
        "\n",
        "\n",
        "model_file = open(\"murders_best_model.saved\",\"rb\")\n",
        "model = pickle.load(model_file)\n",
        "model_file.close()\n",
        "\n",
        "# Let's prepare a sample input\n",
        "borough = 1\n",
        "vic_sex = 0\n",
        "vic_race = 1\n",
        "vic_age = 3\n",
        "perp_sex = 1\n",
        "perp_race = 0\n",
        "perp_age = 2\n",
        "hour = 20\n",
        "month = 9\n",
        "\n",
        "\n",
        "input_data =numpy.array([[borough, vic_race, vic_age, vic_sex ,\n",
        "                         perp_race, perp_age, perp_sex, hour, month]])\n",
        "\n",
        "\n",
        "y_predicted_lr = lr_classifier.predict(input_data)\n",
        "\n",
        "if y_predicted_lr[0]==1:\n",
        "    print (\"The person is likely to have been murdered\")\n",
        "if y_predicted_lr[0]==0:\n",
        "    print (\"The person was likely not murdered\")"
      ]
    },
    {
      "cell_type": "code",
      "execution_count": null,
      "metadata": {
        "id": "H_jvxL8fnBfH"
      },
      "outputs": [],
      "source": [
        "def get_inputs():\n",
        "    borough = int(input(\"What borough do you live in? (Numerical Value)\"))\n",
        "    perp_sex = int(input(\"What is your perpetrator's sex? (Numerical Value)\"))\n",
        "    perp_age = int(input(\"What is your perpetrator's age range? (Numerical Value)\"))\n",
        "    perp_race = int(input(\"What is your perpetrator's race? (Numerical Value)\"))\n",
        "    vic_sex = int(input(\"What is your sex? (Numerical Value)\"))\n",
        "    vic_age = int(input(\"What are your age range? (Numerical Value)\"))\n",
        "    vic_race = int(input(\"What is your race? (Numerical Value)\"))\n",
        "    hour = int(input(\"What hour did the incident occur (Numerical Value 0-23)?\"))\n",
        "    month = int(input(\"What month did the incident occur (Numerical Value 0-11)?\"))\n",
        "\n",
        "\n",
        "\n",
        "    inputs = [borough, vic_sex, vic_race, vic_age, perp_sex, perp_race, perp_age, hour, month]\n",
        "\n",
        "    # Use the trained machine learning model for prediction\n",
        "    prediction = model.predict([inputs])  # Assuming model.predict expects a list of inputs\n",
        "\n",
        "\n",
        "    if prediction[0] == 1:\n",
        "        print(\"This incident likely did result in a murder\")\n",
        "    else :\n",
        "        print(\"This incident likely did not result in a murder\")\n",
        "\n",
        "\n",
        "# Call the function\n",
        "get_inputs()\n"
      ]
    }
  ],
  "metadata": {
    "colab": {
      "provenance": []
    },
    "kernelspec": {
      "display_name": "Python 3",
      "name": "python3"
    },
    "language_info": {
      "name": "python"
    }
  },
  "nbformat": 4,
  "nbformat_minor": 0
}